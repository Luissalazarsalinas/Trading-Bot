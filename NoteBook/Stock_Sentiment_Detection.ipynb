{
  "nbformat": 4,
  "nbformat_minor": 0,
  "metadata": {
    "colab": {
      "provenance": []
    },
    "kernelspec": {
      "name": "python3",
      "display_name": "Python 3"
    },
    "language_info": {
      "name": "python"
    },
    "accelerator": "GPU",
    "gpuClass": "standard"
  },
  "cells": [
    {
      "cell_type": "markdown",
      "source": [
        "# **Trading System Project: Stock sentiment analysis**"
      ],
      "metadata": {
        "id": "wjXYRl1-Hd31"
      }
    },
    {
      "cell_type": "markdown",
      "source": [
        "### **Install and import libraries**"
      ],
      "metadata": {
        "id": "DLbvbBsP_-Qy"
      }
    },
    {
      "cell_type": "code",
      "source": [
        "!pip install -U textblob"
      ],
      "metadata": {
        "id": "AlR0PolYJ9YC"
      },
      "execution_count": null,
      "outputs": []
    },
    {
      "cell_type": "code",
      "source": [
        "# Import libraries\n",
        "import os\n",
        "import random\n",
        "import re\n",
        "import string\n",
        "import warnings\n",
        "warnings.filterwarnings(action =\"ignore\")\n",
        "\n",
        "\n",
        "import matplotlib.pyplot as plt\n",
        "%matplotlib inline\n",
        "import seaborn as sns\n",
        "\n",
        "import numpy as np\n",
        "import pandas as pd\n",
        "import scipy \n",
        "\n",
        "import nltk\n",
        "from nltk.corpus import stopwords\n",
        "from nltk.stem import WordNetLemmatizer\n",
        "from textblob import TextBlob\n",
        "\n",
        "import tensorflow as tf\n",
        "from tensorflow.keras.layers import Dense, Dropout\n",
        "from tensorflow.keras.layers import LSTM, GRU, Bidirectional"
      ],
      "metadata": {
        "id": "-Z-GZc8-J9OS"
      },
      "execution_count": null,
      "outputs": []
    },
    {
      "cell_type": "code",
      "source": [
        "# download stopwords\n",
        "nltk.download('all')"
      ],
      "metadata": {
        "id": "DDbTs_-uJ9H1"
      },
      "execution_count": null,
      "outputs": []
    },
    {
      "cell_type": "markdown",
      "source": [
        "### **Import data and EDA**"
      ],
      "metadata": {
        "id": "TwvM49n9ASLb"
      }
    },
    {
      "cell_type": "code",
      "source": [
        "## Import file \n",
        "from google.colab import files\n",
        "files.upload()"
      ],
      "metadata": {
        "id": "wBKjHJyiJ9Ef"
      },
      "execution_count": null,
      "outputs": []
    },
    {
      "cell_type": "code",
      "source": [
        "# Get data into a dataframe\n",
        "df = pd.read_csv(\"Tweets_data.csv\")\n",
        "df.info()"
      ],
      "metadata": {
        "colab": {
          "base_uri": "https://localhost:8080/"
        },
        "id": "TTUtDEBHJ9Bi",
        "outputId": "e22a1a3a-b6b6-46b7-bd22-1fd6b3d36ec5"
      },
      "execution_count": null,
      "outputs": [
        {
          "output_type": "stream",
          "name": "stdout",
          "text": [
            "<class 'pandas.core.frame.DataFrame'>\n",
            "RangeIndex: 15000 entries, 0 to 14999\n",
            "Data columns (total 1 columns):\n",
            " #   Column  Non-Null Count  Dtype \n",
            "---  ------  --------------  ----- \n",
            " 0   Tweets  14993 non-null  object\n",
            "dtypes: object(1)\n",
            "memory usage: 117.3+ KB\n"
          ]
        }
      ]
    },
    {
      "cell_type": "code",
      "source": [
        "print(f\" Data Shape: {df.shape}\")\n",
        "df.head(10)"
      ],
      "metadata": {
        "colab": {
          "base_uri": "https://localhost:8080/",
          "height": 380
        },
        "id": "cjigD2UuJ83S",
        "outputId": "cb697e83-a3a8-4b44-fa81-22ac4b34bd3f"
      },
      "execution_count": null,
      "outputs": [
        {
          "output_type": "stream",
          "name": "stdout",
          "text": [
            " Data Shape: (15000, 1)\n"
          ]
        },
        {
          "output_type": "execute_result",
          "data": {
            "text/plain": [
              "                                              Tweets\n",
              "0  fdx      trade the us stock market before they...\n",
              "1  fubo     trade the us stock market before they...\n",
              "2  beat     trade the us stock market before they...\n",
              "3  here we go doge to the moonif you have any dis...\n",
              "4  bkr      trade the us stock market before they...\n",
              "5  pypl     trade the us stock market before they...\n",
              "6  lumn     trade the us stock market before they...\n",
              "7  pcg     trade the us stock market before they ...\n",
              "8  dkng     trade the us stock market before they...\n",
              "9  gold      trade the us stock market before the..."
            ],
            "text/html": [
              "\n",
              "  <div id=\"df-1c801ed2-0a13-4a7e-9eca-ae48c218a5b4\">\n",
              "    <div class=\"colab-df-container\">\n",
              "      <div>\n",
              "<style scoped>\n",
              "    .dataframe tbody tr th:only-of-type {\n",
              "        vertical-align: middle;\n",
              "    }\n",
              "\n",
              "    .dataframe tbody tr th {\n",
              "        vertical-align: top;\n",
              "    }\n",
              "\n",
              "    .dataframe thead th {\n",
              "        text-align: right;\n",
              "    }\n",
              "</style>\n",
              "<table border=\"1\" class=\"dataframe\">\n",
              "  <thead>\n",
              "    <tr style=\"text-align: right;\">\n",
              "      <th></th>\n",
              "      <th>Tweets</th>\n",
              "    </tr>\n",
              "  </thead>\n",
              "  <tbody>\n",
              "    <tr>\n",
              "      <th>0</th>\n",
              "      <td>fdx      trade the us stock market before they...</td>\n",
              "    </tr>\n",
              "    <tr>\n",
              "      <th>1</th>\n",
              "      <td>fubo     trade the us stock market before they...</td>\n",
              "    </tr>\n",
              "    <tr>\n",
              "      <th>2</th>\n",
              "      <td>beat     trade the us stock market before they...</td>\n",
              "    </tr>\n",
              "    <tr>\n",
              "      <th>3</th>\n",
              "      <td>here we go doge to the moonif you have any dis...</td>\n",
              "    </tr>\n",
              "    <tr>\n",
              "      <th>4</th>\n",
              "      <td>bkr      trade the us stock market before they...</td>\n",
              "    </tr>\n",
              "    <tr>\n",
              "      <th>5</th>\n",
              "      <td>pypl     trade the us stock market before they...</td>\n",
              "    </tr>\n",
              "    <tr>\n",
              "      <th>6</th>\n",
              "      <td>lumn     trade the us stock market before they...</td>\n",
              "    </tr>\n",
              "    <tr>\n",
              "      <th>7</th>\n",
              "      <td>pcg     trade the us stock market before they ...</td>\n",
              "    </tr>\n",
              "    <tr>\n",
              "      <th>8</th>\n",
              "      <td>dkng     trade the us stock market before they...</td>\n",
              "    </tr>\n",
              "    <tr>\n",
              "      <th>9</th>\n",
              "      <td>gold      trade the us stock market before the...</td>\n",
              "    </tr>\n",
              "  </tbody>\n",
              "</table>\n",
              "</div>\n",
              "      <button class=\"colab-df-convert\" onclick=\"convertToInteractive('df-1c801ed2-0a13-4a7e-9eca-ae48c218a5b4')\"\n",
              "              title=\"Convert this dataframe to an interactive table.\"\n",
              "              style=\"display:none;\">\n",
              "        \n",
              "  <svg xmlns=\"http://www.w3.org/2000/svg\" height=\"24px\"viewBox=\"0 0 24 24\"\n",
              "       width=\"24px\">\n",
              "    <path d=\"M0 0h24v24H0V0z\" fill=\"none\"/>\n",
              "    <path d=\"M18.56 5.44l.94 2.06.94-2.06 2.06-.94-2.06-.94-.94-2.06-.94 2.06-2.06.94zm-11 1L8.5 8.5l.94-2.06 2.06-.94-2.06-.94L8.5 2.5l-.94 2.06-2.06.94zm10 10l.94 2.06.94-2.06 2.06-.94-2.06-.94-.94-2.06-.94 2.06-2.06.94z\"/><path d=\"M17.41 7.96l-1.37-1.37c-.4-.4-.92-.59-1.43-.59-.52 0-1.04.2-1.43.59L10.3 9.45l-7.72 7.72c-.78.78-.78 2.05 0 2.83L4 21.41c.39.39.9.59 1.41.59.51 0 1.02-.2 1.41-.59l7.78-7.78 2.81-2.81c.8-.78.8-2.07 0-2.86zM5.41 20L4 18.59l7.72-7.72 1.47 1.35L5.41 20z\"/>\n",
              "  </svg>\n",
              "      </button>\n",
              "      \n",
              "  <style>\n",
              "    .colab-df-container {\n",
              "      display:flex;\n",
              "      flex-wrap:wrap;\n",
              "      gap: 12px;\n",
              "    }\n",
              "\n",
              "    .colab-df-convert {\n",
              "      background-color: #E8F0FE;\n",
              "      border: none;\n",
              "      border-radius: 50%;\n",
              "      cursor: pointer;\n",
              "      display: none;\n",
              "      fill: #1967D2;\n",
              "      height: 32px;\n",
              "      padding: 0 0 0 0;\n",
              "      width: 32px;\n",
              "    }\n",
              "\n",
              "    .colab-df-convert:hover {\n",
              "      background-color: #E2EBFA;\n",
              "      box-shadow: 0px 1px 2px rgba(60, 64, 67, 0.3), 0px 1px 3px 1px rgba(60, 64, 67, 0.15);\n",
              "      fill: #174EA6;\n",
              "    }\n",
              "\n",
              "    [theme=dark] .colab-df-convert {\n",
              "      background-color: #3B4455;\n",
              "      fill: #D2E3FC;\n",
              "    }\n",
              "\n",
              "    [theme=dark] .colab-df-convert:hover {\n",
              "      background-color: #434B5C;\n",
              "      box-shadow: 0px 1px 3px 1px rgba(0, 0, 0, 0.15);\n",
              "      filter: drop-shadow(0px 1px 2px rgba(0, 0, 0, 0.3));\n",
              "      fill: #FFFFFF;\n",
              "    }\n",
              "  </style>\n",
              "\n",
              "      <script>\n",
              "        const buttonEl =\n",
              "          document.querySelector('#df-1c801ed2-0a13-4a7e-9eca-ae48c218a5b4 button.colab-df-convert');\n",
              "        buttonEl.style.display =\n",
              "          google.colab.kernel.accessAllowed ? 'block' : 'none';\n",
              "\n",
              "        async function convertToInteractive(key) {\n",
              "          const element = document.querySelector('#df-1c801ed2-0a13-4a7e-9eca-ae48c218a5b4');\n",
              "          const dataTable =\n",
              "            await google.colab.kernel.invokeFunction('convertToInteractive',\n",
              "                                                     [key], {});\n",
              "          if (!dataTable) return;\n",
              "\n",
              "          const docLinkHtml = 'Like what you see? Visit the ' +\n",
              "            '<a target=\"_blank\" href=https://colab.research.google.com/notebooks/data_table.ipynb>data table notebook</a>'\n",
              "            + ' to learn more about interactive tables.';\n",
              "          element.innerHTML = '';\n",
              "          dataTable['output_type'] = 'display_data';\n",
              "          await google.colab.output.renderOutput(dataTable, element);\n",
              "          const docLink = document.createElement('div');\n",
              "          docLink.innerHTML = docLinkHtml;\n",
              "          element.appendChild(docLink);\n",
              "        }\n",
              "      </script>\n",
              "    </div>\n",
              "  </div>\n",
              "  "
            ]
          },
          "metadata": {},
          "execution_count": 7
        }
      ]
    },
    {
      "cell_type": "code",
      "source": [
        "df.describe()"
      ],
      "metadata": {
        "colab": {
          "base_uri": "https://localhost:8080/",
          "height": 175
        },
        "id": "2cZ1AjQMgeK4",
        "outputId": "ee078b04-144d-487b-cd56-6ededcffcd92"
      },
      "execution_count": null,
      "outputs": [
        {
          "output_type": "execute_result",
          "data": {
            "text/plain": [
              "                                                   Tweets\n",
              "count                                               14993\n",
              "unique                                              12718\n",
              "top     reading  gt twitters sentiment of the stock ma...\n",
              "freq                                                  233"
            ],
            "text/html": [
              "\n",
              "  <div id=\"df-3c7a678e-ba67-4bf2-8255-9f72314cdf25\">\n",
              "    <div class=\"colab-df-container\">\n",
              "      <div>\n",
              "<style scoped>\n",
              "    .dataframe tbody tr th:only-of-type {\n",
              "        vertical-align: middle;\n",
              "    }\n",
              "\n",
              "    .dataframe tbody tr th {\n",
              "        vertical-align: top;\n",
              "    }\n",
              "\n",
              "    .dataframe thead th {\n",
              "        text-align: right;\n",
              "    }\n",
              "</style>\n",
              "<table border=\"1\" class=\"dataframe\">\n",
              "  <thead>\n",
              "    <tr style=\"text-align: right;\">\n",
              "      <th></th>\n",
              "      <th>Tweets</th>\n",
              "    </tr>\n",
              "  </thead>\n",
              "  <tbody>\n",
              "    <tr>\n",
              "      <th>count</th>\n",
              "      <td>14993</td>\n",
              "    </tr>\n",
              "    <tr>\n",
              "      <th>unique</th>\n",
              "      <td>12718</td>\n",
              "    </tr>\n",
              "    <tr>\n",
              "      <th>top</th>\n",
              "      <td>reading  gt twitters sentiment of the stock ma...</td>\n",
              "    </tr>\n",
              "    <tr>\n",
              "      <th>freq</th>\n",
              "      <td>233</td>\n",
              "    </tr>\n",
              "  </tbody>\n",
              "</table>\n",
              "</div>\n",
              "      <button class=\"colab-df-convert\" onclick=\"convertToInteractive('df-3c7a678e-ba67-4bf2-8255-9f72314cdf25')\"\n",
              "              title=\"Convert this dataframe to an interactive table.\"\n",
              "              style=\"display:none;\">\n",
              "        \n",
              "  <svg xmlns=\"http://www.w3.org/2000/svg\" height=\"24px\"viewBox=\"0 0 24 24\"\n",
              "       width=\"24px\">\n",
              "    <path d=\"M0 0h24v24H0V0z\" fill=\"none\"/>\n",
              "    <path d=\"M18.56 5.44l.94 2.06.94-2.06 2.06-.94-2.06-.94-.94-2.06-.94 2.06-2.06.94zm-11 1L8.5 8.5l.94-2.06 2.06-.94-2.06-.94L8.5 2.5l-.94 2.06-2.06.94zm10 10l.94 2.06.94-2.06 2.06-.94-2.06-.94-.94-2.06-.94 2.06-2.06.94z\"/><path d=\"M17.41 7.96l-1.37-1.37c-.4-.4-.92-.59-1.43-.59-.52 0-1.04.2-1.43.59L10.3 9.45l-7.72 7.72c-.78.78-.78 2.05 0 2.83L4 21.41c.39.39.9.59 1.41.59.51 0 1.02-.2 1.41-.59l7.78-7.78 2.81-2.81c.8-.78.8-2.07 0-2.86zM5.41 20L4 18.59l7.72-7.72 1.47 1.35L5.41 20z\"/>\n",
              "  </svg>\n",
              "      </button>\n",
              "      \n",
              "  <style>\n",
              "    .colab-df-container {\n",
              "      display:flex;\n",
              "      flex-wrap:wrap;\n",
              "      gap: 12px;\n",
              "    }\n",
              "\n",
              "    .colab-df-convert {\n",
              "      background-color: #E8F0FE;\n",
              "      border: none;\n",
              "      border-radius: 50%;\n",
              "      cursor: pointer;\n",
              "      display: none;\n",
              "      fill: #1967D2;\n",
              "      height: 32px;\n",
              "      padding: 0 0 0 0;\n",
              "      width: 32px;\n",
              "    }\n",
              "\n",
              "    .colab-df-convert:hover {\n",
              "      background-color: #E2EBFA;\n",
              "      box-shadow: 0px 1px 2px rgba(60, 64, 67, 0.3), 0px 1px 3px 1px rgba(60, 64, 67, 0.15);\n",
              "      fill: #174EA6;\n",
              "    }\n",
              "\n",
              "    [theme=dark] .colab-df-convert {\n",
              "      background-color: #3B4455;\n",
              "      fill: #D2E3FC;\n",
              "    }\n",
              "\n",
              "    [theme=dark] .colab-df-convert:hover {\n",
              "      background-color: #434B5C;\n",
              "      box-shadow: 0px 1px 3px 1px rgba(0, 0, 0, 0.15);\n",
              "      filter: drop-shadow(0px 1px 2px rgba(0, 0, 0, 0.3));\n",
              "      fill: #FFFFFF;\n",
              "    }\n",
              "  </style>\n",
              "\n",
              "      <script>\n",
              "        const buttonEl =\n",
              "          document.querySelector('#df-3c7a678e-ba67-4bf2-8255-9f72314cdf25 button.colab-df-convert');\n",
              "        buttonEl.style.display =\n",
              "          google.colab.kernel.accessAllowed ? 'block' : 'none';\n",
              "\n",
              "        async function convertToInteractive(key) {\n",
              "          const element = document.querySelector('#df-3c7a678e-ba67-4bf2-8255-9f72314cdf25');\n",
              "          const dataTable =\n",
              "            await google.colab.kernel.invokeFunction('convertToInteractive',\n",
              "                                                     [key], {});\n",
              "          if (!dataTable) return;\n",
              "\n",
              "          const docLinkHtml = 'Like what you see? Visit the ' +\n",
              "            '<a target=\"_blank\" href=https://colab.research.google.com/notebooks/data_table.ipynb>data table notebook</a>'\n",
              "            + ' to learn more about interactive tables.';\n",
              "          element.innerHTML = '';\n",
              "          dataTable['output_type'] = 'display_data';\n",
              "          await google.colab.output.renderOutput(dataTable, element);\n",
              "          const docLink = document.createElement('div');\n",
              "          docLink.innerHTML = docLinkHtml;\n",
              "          element.appendChild(docLink);\n",
              "        }\n",
              "      </script>\n",
              "    </div>\n",
              "  </div>\n",
              "  "
            ]
          },
          "metadata": {},
          "execution_count": 8
        }
      ]
    },
    {
      "cell_type": "code",
      "source": [
        "# Detection duplicate value\n",
        "duplicate_value = df.duplicated().sum()\n",
        "\n",
        "print(f\"In this dataset there are {duplicate_value} duplicate values\")"
      ],
      "metadata": {
        "colab": {
          "base_uri": "https://localhost:8080/"
        },
        "id": "SLO_Y09XgeII",
        "outputId": "92c107f5-aa17-4a35-a34b-743e8f6e838e"
      },
      "execution_count": null,
      "outputs": [
        {
          "output_type": "stream",
          "name": "stdout",
          "text": [
            "In this dataset there are 1615 duplicate values\n"
          ]
        }
      ]
    },
    {
      "cell_type": "code",
      "source": [
        "# Drop duplicate values\n",
        "df.drop_duplicates(inplace= True)"
      ],
      "metadata": {
        "id": "JN7G2Eeigd3u"
      },
      "execution_count": null,
      "outputs": []
    },
    {
      "cell_type": "code",
      "source": [
        "## Missing values\n",
        "print(df.isnull().sum())\n",
        "##\n",
        "df.dropna(inplace=True)\n",
        "# shape\n",
        "print(f\" Dataframe Shape:{df.shape}\")"
      ],
      "metadata": {
        "colab": {
          "base_uri": "https://localhost:8080/"
        },
        "id": "OJy-lNH7gd0d",
        "outputId": "da977b53-b6c9-4d74-ce15-0611dc4b0e3e"
      },
      "execution_count": null,
      "outputs": [
        {
          "output_type": "stream",
          "name": "stdout",
          "text": [
            "Tweets    7\n",
            "dtype: int64\n",
            " Dataframe Shape:(14993, 1)\n"
          ]
        }
      ]
    },
    {
      "cell_type": "markdown",
      "source": [
        "### **Data preprocessing**\n",
        "\n",
        "- Lemmatizer\n",
        "- Remove Stopword\n",
        "- Get sentiment(target variables)\n",
        "- Split the data into train, val and test set\n",
        "- Tokenizer\n",
        "- Get sequuences and Padding\n",
        "- paramenters:\n",
        "  - vocab_size = 10000\n",
        "  - max_length = 200\n",
        "  - embedding_dim = 16\n",
        "  - trunc_type='post'\n",
        "  - padding_type='post'\n",
        "  - oov_tok = OOV\n",
        " "
      ],
      "metadata": {
        "id": "ywQut-s3AqjK"
      }
    },
    {
      "cell_type": "code",
      "source": [
        "# Text lemmatizer and remove stopwords\n",
        "# English stopwords\n",
        "eng_stopword = stopwords.words(\"english\")\n",
        "# intance lemmatize class\n",
        "lem = WordNetLemmatizer()\n",
        "#\n",
        "df[\"Tweets\"] = df[\"Tweets\"].apply(lambda x: \" \".join([word for word in x.split() if lem.lemmatize(word) not in eng_stopword]))\n",
        "##\n",
        "df.head(10)"
      ],
      "metadata": {
        "colab": {
          "base_uri": "https://localhost:8080/",
          "height": 363
        },
        "id": "gsnWYspkgdio",
        "outputId": "cf7c4753-2db6-4d74-f289-f5e756d35479"
      },
      "execution_count": null,
      "outputs": [
        {
          "output_type": "execute_result",
          "data": {
            "text/plain": [
              "                                              Tweets\n",
              "0  fdx trade us stock market hit stock turned any...\n",
              "1  fubo trade us stock market hit stock turned an...\n",
              "2  beat trade us stock market hit stock turned an...\n",
              "3  go doge moonif disposable income id suggest bu...\n",
              "4  bkr trade us stock market hit stock turned any...\n",
              "5  pypl trade us stock market hit stock turned an...\n",
              "6  lumn trade us stock market hit stock turned an...\n",
              "7  pcg trade us stock market hit stock turned any...\n",
              "8  dkng trade us stock market hit stock turned an...\n",
              "9  gold trade us stock market hit stock turned an..."
            ],
            "text/html": [
              "\n",
              "  <div id=\"df-60f1f36a-4cf8-4976-a7d0-bfed96f97e7b\">\n",
              "    <div class=\"colab-df-container\">\n",
              "      <div>\n",
              "<style scoped>\n",
              "    .dataframe tbody tr th:only-of-type {\n",
              "        vertical-align: middle;\n",
              "    }\n",
              "\n",
              "    .dataframe tbody tr th {\n",
              "        vertical-align: top;\n",
              "    }\n",
              "\n",
              "    .dataframe thead th {\n",
              "        text-align: right;\n",
              "    }\n",
              "</style>\n",
              "<table border=\"1\" class=\"dataframe\">\n",
              "  <thead>\n",
              "    <tr style=\"text-align: right;\">\n",
              "      <th></th>\n",
              "      <th>Tweets</th>\n",
              "    </tr>\n",
              "  </thead>\n",
              "  <tbody>\n",
              "    <tr>\n",
              "      <th>0</th>\n",
              "      <td>fdx trade us stock market hit stock turned any...</td>\n",
              "    </tr>\n",
              "    <tr>\n",
              "      <th>1</th>\n",
              "      <td>fubo trade us stock market hit stock turned an...</td>\n",
              "    </tr>\n",
              "    <tr>\n",
              "      <th>2</th>\n",
              "      <td>beat trade us stock market hit stock turned an...</td>\n",
              "    </tr>\n",
              "    <tr>\n",
              "      <th>3</th>\n",
              "      <td>go doge moonif disposable income id suggest bu...</td>\n",
              "    </tr>\n",
              "    <tr>\n",
              "      <th>4</th>\n",
              "      <td>bkr trade us stock market hit stock turned any...</td>\n",
              "    </tr>\n",
              "    <tr>\n",
              "      <th>5</th>\n",
              "      <td>pypl trade us stock market hit stock turned an...</td>\n",
              "    </tr>\n",
              "    <tr>\n",
              "      <th>6</th>\n",
              "      <td>lumn trade us stock market hit stock turned an...</td>\n",
              "    </tr>\n",
              "    <tr>\n",
              "      <th>7</th>\n",
              "      <td>pcg trade us stock market hit stock turned any...</td>\n",
              "    </tr>\n",
              "    <tr>\n",
              "      <th>8</th>\n",
              "      <td>dkng trade us stock market hit stock turned an...</td>\n",
              "    </tr>\n",
              "    <tr>\n",
              "      <th>9</th>\n",
              "      <td>gold trade us stock market hit stock turned an...</td>\n",
              "    </tr>\n",
              "  </tbody>\n",
              "</table>\n",
              "</div>\n",
              "      <button class=\"colab-df-convert\" onclick=\"convertToInteractive('df-60f1f36a-4cf8-4976-a7d0-bfed96f97e7b')\"\n",
              "              title=\"Convert this dataframe to an interactive table.\"\n",
              "              style=\"display:none;\">\n",
              "        \n",
              "  <svg xmlns=\"http://www.w3.org/2000/svg\" height=\"24px\"viewBox=\"0 0 24 24\"\n",
              "       width=\"24px\">\n",
              "    <path d=\"M0 0h24v24H0V0z\" fill=\"none\"/>\n",
              "    <path d=\"M18.56 5.44l.94 2.06.94-2.06 2.06-.94-2.06-.94-.94-2.06-.94 2.06-2.06.94zm-11 1L8.5 8.5l.94-2.06 2.06-.94-2.06-.94L8.5 2.5l-.94 2.06-2.06.94zm10 10l.94 2.06.94-2.06 2.06-.94-2.06-.94-.94-2.06-.94 2.06-2.06.94z\"/><path d=\"M17.41 7.96l-1.37-1.37c-.4-.4-.92-.59-1.43-.59-.52 0-1.04.2-1.43.59L10.3 9.45l-7.72 7.72c-.78.78-.78 2.05 0 2.83L4 21.41c.39.39.9.59 1.41.59.51 0 1.02-.2 1.41-.59l7.78-7.78 2.81-2.81c.8-.78.8-2.07 0-2.86zM5.41 20L4 18.59l7.72-7.72 1.47 1.35L5.41 20z\"/>\n",
              "  </svg>\n",
              "      </button>\n",
              "      \n",
              "  <style>\n",
              "    .colab-df-container {\n",
              "      display:flex;\n",
              "      flex-wrap:wrap;\n",
              "      gap: 12px;\n",
              "    }\n",
              "\n",
              "    .colab-df-convert {\n",
              "      background-color: #E8F0FE;\n",
              "      border: none;\n",
              "      border-radius: 50%;\n",
              "      cursor: pointer;\n",
              "      display: none;\n",
              "      fill: #1967D2;\n",
              "      height: 32px;\n",
              "      padding: 0 0 0 0;\n",
              "      width: 32px;\n",
              "    }\n",
              "\n",
              "    .colab-df-convert:hover {\n",
              "      background-color: #E2EBFA;\n",
              "      box-shadow: 0px 1px 2px rgba(60, 64, 67, 0.3), 0px 1px 3px 1px rgba(60, 64, 67, 0.15);\n",
              "      fill: #174EA6;\n",
              "    }\n",
              "\n",
              "    [theme=dark] .colab-df-convert {\n",
              "      background-color: #3B4455;\n",
              "      fill: #D2E3FC;\n",
              "    }\n",
              "\n",
              "    [theme=dark] .colab-df-convert:hover {\n",
              "      background-color: #434B5C;\n",
              "      box-shadow: 0px 1px 3px 1px rgba(0, 0, 0, 0.15);\n",
              "      filter: drop-shadow(0px 1px 2px rgba(0, 0, 0, 0.3));\n",
              "      fill: #FFFFFF;\n",
              "    }\n",
              "  </style>\n",
              "\n",
              "      <script>\n",
              "        const buttonEl =\n",
              "          document.querySelector('#df-60f1f36a-4cf8-4976-a7d0-bfed96f97e7b button.colab-df-convert');\n",
              "        buttonEl.style.display =\n",
              "          google.colab.kernel.accessAllowed ? 'block' : 'none';\n",
              "\n",
              "        async function convertToInteractive(key) {\n",
              "          const element = document.querySelector('#df-60f1f36a-4cf8-4976-a7d0-bfed96f97e7b');\n",
              "          const dataTable =\n",
              "            await google.colab.kernel.invokeFunction('convertToInteractive',\n",
              "                                                     [key], {});\n",
              "          if (!dataTable) return;\n",
              "\n",
              "          const docLinkHtml = 'Like what you see? Visit the ' +\n",
              "            '<a target=\"_blank\" href=https://colab.research.google.com/notebooks/data_table.ipynb>data table notebook</a>'\n",
              "            + ' to learn more about interactive tables.';\n",
              "          element.innerHTML = '';\n",
              "          dataTable['output_type'] = 'display_data';\n",
              "          await google.colab.output.renderOutput(dataTable, element);\n",
              "          const docLink = document.createElement('div');\n",
              "          docLink.innerHTML = docLinkHtml;\n",
              "          element.appendChild(docLink);\n",
              "        }\n",
              "      </script>\n",
              "    </div>\n",
              "  </div>\n",
              "  "
            ]
          },
          "metadata": {},
          "execution_count": 10
        }
      ]
    },
    {
      "cell_type": "code",
      "source": [
        "# Get sentiments (target variables)\n",
        "def get_subjectivity(text):\n",
        "  return TextBlob(text).sentiment.subjectivity\n",
        "\n",
        "def get_polarity(text):\n",
        "  return TextBlob(text).sentiment.polarity\n",
        "\n",
        "\n",
        "df['subjectivity'] = df['Tweets'].apply(get_subjectivity)\n",
        "df['polarity'] = df['Tweets'].apply(get_polarity)"
      ],
      "metadata": {
        "id": "6sO6FeAzgdfe"
      },
      "execution_count": null,
      "outputs": []
    },
    {
      "cell_type": "code",
      "source": [
        "## Get sentiment from polarity\n",
        "def get_sentiment(score):\n",
        "  if score < 0:\n",
        "    return \"negative\"\n",
        "  elif score == 0:\n",
        "    return \"neutro\"\n",
        "  else:\n",
        "    return \"positive\"\n",
        "\n",
        "## Apply funtions to all dataframe\n",
        "df['sentiment'] = df['polarity'].apply(get_sentiment)\n",
        "df.head(10)"
      ],
      "metadata": {
        "colab": {
          "base_uri": "https://localhost:8080/",
          "height": 363
        },
        "id": "cp2NAK-mgdci",
        "outputId": "0c077bc1-d1e5-4944-8387-49d9612059b6"
      },
      "execution_count": null,
      "outputs": [
        {
          "output_type": "execute_result",
          "data": {
            "text/plain": [
              "                                              Tweets  subjectivity  polarity  \\\n",
              "0  fdx trade us stock market hit stock turned any...           0.0       0.0   \n",
              "1  fubo trade us stock market hit stock turned an...           0.0       0.0   \n",
              "2  beat trade us stock market hit stock turned an...           0.0       0.0   \n",
              "3  go doge moonif disposable income id suggest bu...           0.0       0.0   \n",
              "4  bkr trade us stock market hit stock turned any...           0.0       0.0   \n",
              "5  pypl trade us stock market hit stock turned an...           0.0       0.0   \n",
              "6  lumn trade us stock market hit stock turned an...           0.0       0.0   \n",
              "7  pcg trade us stock market hit stock turned any...           0.0       0.0   \n",
              "8  dkng trade us stock market hit stock turned an...           0.0       0.0   \n",
              "9  gold trade us stock market hit stock turned an...           0.0       0.0   \n",
              "\n",
              "  sentiment  \n",
              "0    neutro  \n",
              "1    neutro  \n",
              "2    neutro  \n",
              "3    neutro  \n",
              "4    neutro  \n",
              "5    neutro  \n",
              "6    neutro  \n",
              "7    neutro  \n",
              "8    neutro  \n",
              "9    neutro  "
            ],
            "text/html": [
              "\n",
              "  <div id=\"df-709a9f16-d9eb-4cae-a66e-854fe27522e3\">\n",
              "    <div class=\"colab-df-container\">\n",
              "      <div>\n",
              "<style scoped>\n",
              "    .dataframe tbody tr th:only-of-type {\n",
              "        vertical-align: middle;\n",
              "    }\n",
              "\n",
              "    .dataframe tbody tr th {\n",
              "        vertical-align: top;\n",
              "    }\n",
              "\n",
              "    .dataframe thead th {\n",
              "        text-align: right;\n",
              "    }\n",
              "</style>\n",
              "<table border=\"1\" class=\"dataframe\">\n",
              "  <thead>\n",
              "    <tr style=\"text-align: right;\">\n",
              "      <th></th>\n",
              "      <th>Tweets</th>\n",
              "      <th>subjectivity</th>\n",
              "      <th>polarity</th>\n",
              "      <th>sentiment</th>\n",
              "    </tr>\n",
              "  </thead>\n",
              "  <tbody>\n",
              "    <tr>\n",
              "      <th>0</th>\n",
              "      <td>fdx trade us stock market hit stock turned any...</td>\n",
              "      <td>0.0</td>\n",
              "      <td>0.0</td>\n",
              "      <td>neutro</td>\n",
              "    </tr>\n",
              "    <tr>\n",
              "      <th>1</th>\n",
              "      <td>fubo trade us stock market hit stock turned an...</td>\n",
              "      <td>0.0</td>\n",
              "      <td>0.0</td>\n",
              "      <td>neutro</td>\n",
              "    </tr>\n",
              "    <tr>\n",
              "      <th>2</th>\n",
              "      <td>beat trade us stock market hit stock turned an...</td>\n",
              "      <td>0.0</td>\n",
              "      <td>0.0</td>\n",
              "      <td>neutro</td>\n",
              "    </tr>\n",
              "    <tr>\n",
              "      <th>3</th>\n",
              "      <td>go doge moonif disposable income id suggest bu...</td>\n",
              "      <td>0.0</td>\n",
              "      <td>0.0</td>\n",
              "      <td>neutro</td>\n",
              "    </tr>\n",
              "    <tr>\n",
              "      <th>4</th>\n",
              "      <td>bkr trade us stock market hit stock turned any...</td>\n",
              "      <td>0.0</td>\n",
              "      <td>0.0</td>\n",
              "      <td>neutro</td>\n",
              "    </tr>\n",
              "    <tr>\n",
              "      <th>5</th>\n",
              "      <td>pypl trade us stock market hit stock turned an...</td>\n",
              "      <td>0.0</td>\n",
              "      <td>0.0</td>\n",
              "      <td>neutro</td>\n",
              "    </tr>\n",
              "    <tr>\n",
              "      <th>6</th>\n",
              "      <td>lumn trade us stock market hit stock turned an...</td>\n",
              "      <td>0.0</td>\n",
              "      <td>0.0</td>\n",
              "      <td>neutro</td>\n",
              "    </tr>\n",
              "    <tr>\n",
              "      <th>7</th>\n",
              "      <td>pcg trade us stock market hit stock turned any...</td>\n",
              "      <td>0.0</td>\n",
              "      <td>0.0</td>\n",
              "      <td>neutro</td>\n",
              "    </tr>\n",
              "    <tr>\n",
              "      <th>8</th>\n",
              "      <td>dkng trade us stock market hit stock turned an...</td>\n",
              "      <td>0.0</td>\n",
              "      <td>0.0</td>\n",
              "      <td>neutro</td>\n",
              "    </tr>\n",
              "    <tr>\n",
              "      <th>9</th>\n",
              "      <td>gold trade us stock market hit stock turned an...</td>\n",
              "      <td>0.0</td>\n",
              "      <td>0.0</td>\n",
              "      <td>neutro</td>\n",
              "    </tr>\n",
              "  </tbody>\n",
              "</table>\n",
              "</div>\n",
              "      <button class=\"colab-df-convert\" onclick=\"convertToInteractive('df-709a9f16-d9eb-4cae-a66e-854fe27522e3')\"\n",
              "              title=\"Convert this dataframe to an interactive table.\"\n",
              "              style=\"display:none;\">\n",
              "        \n",
              "  <svg xmlns=\"http://www.w3.org/2000/svg\" height=\"24px\"viewBox=\"0 0 24 24\"\n",
              "       width=\"24px\">\n",
              "    <path d=\"M0 0h24v24H0V0z\" fill=\"none\"/>\n",
              "    <path d=\"M18.56 5.44l.94 2.06.94-2.06 2.06-.94-2.06-.94-.94-2.06-.94 2.06-2.06.94zm-11 1L8.5 8.5l.94-2.06 2.06-.94-2.06-.94L8.5 2.5l-.94 2.06-2.06.94zm10 10l.94 2.06.94-2.06 2.06-.94-2.06-.94-.94-2.06-.94 2.06-2.06.94z\"/><path d=\"M17.41 7.96l-1.37-1.37c-.4-.4-.92-.59-1.43-.59-.52 0-1.04.2-1.43.59L10.3 9.45l-7.72 7.72c-.78.78-.78 2.05 0 2.83L4 21.41c.39.39.9.59 1.41.59.51 0 1.02-.2 1.41-.59l7.78-7.78 2.81-2.81c.8-.78.8-2.07 0-2.86zM5.41 20L4 18.59l7.72-7.72 1.47 1.35L5.41 20z\"/>\n",
              "  </svg>\n",
              "      </button>\n",
              "      \n",
              "  <style>\n",
              "    .colab-df-container {\n",
              "      display:flex;\n",
              "      flex-wrap:wrap;\n",
              "      gap: 12px;\n",
              "    }\n",
              "\n",
              "    .colab-df-convert {\n",
              "      background-color: #E8F0FE;\n",
              "      border: none;\n",
              "      border-radius: 50%;\n",
              "      cursor: pointer;\n",
              "      display: none;\n",
              "      fill: #1967D2;\n",
              "      height: 32px;\n",
              "      padding: 0 0 0 0;\n",
              "      width: 32px;\n",
              "    }\n",
              "\n",
              "    .colab-df-convert:hover {\n",
              "      background-color: #E2EBFA;\n",
              "      box-shadow: 0px 1px 2px rgba(60, 64, 67, 0.3), 0px 1px 3px 1px rgba(60, 64, 67, 0.15);\n",
              "      fill: #174EA6;\n",
              "    }\n",
              "\n",
              "    [theme=dark] .colab-df-convert {\n",
              "      background-color: #3B4455;\n",
              "      fill: #D2E3FC;\n",
              "    }\n",
              "\n",
              "    [theme=dark] .colab-df-convert:hover {\n",
              "      background-color: #434B5C;\n",
              "      box-shadow: 0px 1px 3px 1px rgba(0, 0, 0, 0.15);\n",
              "      filter: drop-shadow(0px 1px 2px rgba(0, 0, 0, 0.3));\n",
              "      fill: #FFFFFF;\n",
              "    }\n",
              "  </style>\n",
              "\n",
              "      <script>\n",
              "        const buttonEl =\n",
              "          document.querySelector('#df-709a9f16-d9eb-4cae-a66e-854fe27522e3 button.colab-df-convert');\n",
              "        buttonEl.style.display =\n",
              "          google.colab.kernel.accessAllowed ? 'block' : 'none';\n",
              "\n",
              "        async function convertToInteractive(key) {\n",
              "          const element = document.querySelector('#df-709a9f16-d9eb-4cae-a66e-854fe27522e3');\n",
              "          const dataTable =\n",
              "            await google.colab.kernel.invokeFunction('convertToInteractive',\n",
              "                                                     [key], {});\n",
              "          if (!dataTable) return;\n",
              "\n",
              "          const docLinkHtml = 'Like what you see? Visit the ' +\n",
              "            '<a target=\"_blank\" href=https://colab.research.google.com/notebooks/data_table.ipynb>data table notebook</a>'\n",
              "            + ' to learn more about interactive tables.';\n",
              "          element.innerHTML = '';\n",
              "          dataTable['output_type'] = 'display_data';\n",
              "          await google.colab.output.renderOutput(dataTable, element);\n",
              "          const docLink = document.createElement('div');\n",
              "          docLink.innerHTML = docLinkHtml;\n",
              "          element.appendChild(docLink);\n",
              "        }\n",
              "      </script>\n",
              "    </div>\n",
              "  </div>\n",
              "  "
            ]
          },
          "metadata": {},
          "execution_count": 12
        }
      ]
    },
    {
      "cell_type": "code",
      "source": [
        "# labels plot \n",
        "fig, ax = plt.subplots(figsize = (14, 5))\n",
        "sns.countplot(data = df, x = 'sentiment', ax = ax)\n",
        "#ax.set_yscale(\"log\")\n",
        "ax.set_ylabel(\"Frequency\")\n",
        "ax.set_xlabel(\"Sentiments\")\n",
        "plt.tight_layout();"
      ],
      "metadata": {
        "colab": {
          "base_uri": "https://localhost:8080/",
          "height": 369
        },
        "id": "LL6TKcAHgdZG",
        "outputId": "0d949d54-013b-48b2-d7c7-736024315e32"
      },
      "execution_count": null,
      "outputs": [
        {
          "output_type": "display_data",
          "data": {
            "text/plain": [
              "<Figure size 1008x360 with 1 Axes>"
            ],
            "image/png": "[encoded data removed]"
          },
          "metadata": {
            "needs_background": "light"
          }
        }
      ]
    },
    {
      "cell_type": "code",
      "source": [
        "## Drop columns \n",
        "df.drop(columns =[\"subjectivity\", \"polarity\"], inplace= True)"
      ],
      "metadata": {
        "id": "Ulrf2-wSoNTK"
      },
      "execution_count": null,
      "outputs": []
    },
    {
      "cell_type": "code",
      "source": [
        "# transform target vairable \n",
        "dict_tar = {\n",
        "    \"neutro\" : 2,\n",
        "    \"positive\" : 1,\n",
        "    \"negative\" : 0  \n",
        "}\n",
        "df['sentiment'] = df['sentiment'].map(dict_tar) "
      ],
      "metadata": {
        "id": "ZMHzxKE7AmVs"
      },
      "execution_count": null,
      "outputs": []
    },
    {
      "cell_type": "code",
      "source": [
        "# Split data into Features and label\n",
        "label = \"sentiment\"\n",
        "features = df.drop(columns = label)\n",
        "sentences = list(features[\"Tweets\"])\n",
        "labels = list(df[label])"
      ],
      "metadata": {
        "id": "X6pY1HwHoND9"
      },
      "execution_count": null,
      "outputs": []
    },
    {
      "cell_type": "code",
      "source": [
        "# Split data into train, val and test\n",
        "# 80:10:10\n",
        "split_thre = int(len(sentences)*0.8)\n",
        "split_thre_1 = int(len(sentences)*0.9)\n",
        "\n",
        "# Feature sentences \n",
        "training_sentences = sentences[ :split_thre]\n",
        "val_sentences = sentences[split_thre:split_thre_1]\n",
        "testing_sentences = sentences[split_thre_1: ]\n",
        "# label sentences \n",
        "training_labels = labels[ :split_thre]\n",
        "val_labels = labels[split_thre:split_thre_1]\n",
        "testing_labels = labels[split_thre_1:]\n",
        "# \n",
        "print(f\"Training sentences : {len(training_sentences)}\")\n",
        "print(f\"Training labels : {len(training_labels)}\")\n",
        "print(f\"Validation sentences : {len(val_sentences)}\")\n",
        "print(f\"Validation labels : {len(training_labels)}\")\n",
        "print(f\"Test sentences : {len(testing_sentences)}\")\n",
        "print(f\"Test labels: {len(testing_labels)}\")"
      ],
      "metadata": {
        "colab": {
          "base_uri": "https://localhost:8080/"
        },
        "id": "gEixdz3RoM_m",
        "outputId": "86cdaddc-d54e-4459-8626-3737228466d7"
      },
      "execution_count": null,
      "outputs": [
        {
          "output_type": "stream",
          "name": "stdout",
          "text": [
            "Training sentences : 11994\n",
            "Training labels : 11994\n",
            "Validation sentences : 1499\n",
            "Validation labels : 11994\n",
            "Test sentences : 1500\n",
            "Test labels: 1500\n"
          ]
        }
      ]
    },
    {
      "cell_type": "code",
      "source": [
        "# Tokenizer funtion\n",
        "def tokenizer_word(vocabsize:int, max_length:int, embedding_dim:int, trunc_type:str,padding_type:str, oov_tok:str):\n",
        "\n",
        "  # tokenizer\n",
        "  tokenizer = tf.keras.preprocessing.text.Tokenizer(\n",
        "      num_words = vocab_size,\n",
        "      oov_token = oov_tok\n",
        "  )\n",
        "  \n",
        "  # Fit\n",
        "  tokenizer.fit_on_texts(training_sentences)\n",
        "\n",
        "  # Text to sequence\n",
        "\n",
        "  # Training set\n",
        "  training_seq = tokenizer.texts_to_sequences(training_sentences)\n",
        "  training_padded = tf.keras.preprocessing.sequence.pad_sequences(\n",
        "      training_seq, maxlen = max_length, padding = padding_type,\n",
        "      truncating = trunc_type\n",
        "  )\n",
        "  # Val set\n",
        "  val_seq = tokenizer.texts_to_sequences(val_sentences)\n",
        "  val_padded = tf.keras.preprocessing.sequence.pad_sequences(\n",
        "      val_seq, maxlen = max_length, padding = padding_type,\n",
        "      truncating = trunc_type\n",
        "  )\n",
        "  # Test set\n",
        "  Testing_seq = tokenizer.texts_to_sequences(testing_sentences)\n",
        "  Testing_padded = tf.keras.preprocessing.sequence.pad_sequences(\n",
        "      Testing_seq, maxlen = max_length, padding = padding_type,\n",
        "      truncating = trunc_type\n",
        "  )\n",
        "\n",
        "  # Conver to arrays \n",
        "  training_pad = np.array(training_padded)\n",
        "  y_training = np.array(training_labels)\n",
        "  val_pad = np.array(val_padded)\n",
        "  y_val = np.array(val_labels)\n",
        "  testing_pad = np.array(Testing_padded)\n",
        "  y_test = np.array(testing_labels)\n",
        "\n",
        "  return training_pad, y_training, val_pad, y_val, testing_pad,y_test   "
      ],
      "metadata": {
        "id": "fauqemvboM8h"
      },
      "execution_count": null,
      "outputs": []
    },
    {
      "cell_type": "code",
      "source": [
        "# Parameters\n",
        "vocab_size = 10000\n",
        "max_length = 200\n",
        "embedding_dim = 16\n",
        "trunc_type='post'\n",
        "padding_type='post'\n",
        "oov_tok = \"<OOV>\" \n",
        "\n",
        "training_pad, y_train, val_pad, y_val, testing_pad, y_test = tokenizer_word(\n",
        "    vocab_size, max_length, embedding_dim, trunc_type, padding_type, oov_tok\n",
        ")\n",
        "\n",
        "# Shapes\n",
        "print(f\"Training pad shape : {training_pad.shape}\")\n",
        "print(f\"Training labels : {y_train.shape}\")\n",
        "print(f\"Validation pad shape : {val_pad.shape}\")\n",
        "print(f\"Validation labels : {y_val.shape}\")\n",
        "print(f\"Testing pad: {testing_pad.shape}\")\n",
        "print(f\"Testing labels: {y_test.shape}\")"
      ],
      "metadata": {
        "colab": {
          "base_uri": "https://localhost:8080/"
        },
        "id": "1y1lY8S0oM4i",
        "outputId": "0d2cc031-6d65-4af5-8810-d6ea297e34ac"
      },
      "execution_count": null,
      "outputs": [
        {
          "output_type": "stream",
          "name": "stdout",
          "text": [
            "Training pad shape : (11994, 200)\n",
            "Training labels : (11994,)\n",
            "Validation pad shape : (1499, 200)\n",
            "Validation labels : (1499,)\n",
            "Testing pad: (1500, 200)\n",
            "Testing labels: (1500,)\n"
          ]
        }
      ]
    },
    {
      "cell_type": "code",
      "source": [
        "# Matrix\n",
        "y_train = tf.keras.utils.to_categorical(y_train, num_classes= 3)\n",
        "y_val = tf.keras.utils.to_categorical(y_val, num_classes= 3)"
      ],
      "metadata": {
        "id": "owRV2OTUgdWN"
      },
      "execution_count": null,
      "outputs": []
    },
    {
      "cell_type": "markdown",
      "source": [
        "## **Modelling**\n",
        "\n",
        "- RNN Architectures:\n",
        " - Bidirectional LSTM\n",
        " - Bidirectional GRU\n",
        "\n",
        "- Optimizer:\n",
        " - Nadam(lr/eta = 0.001)\n",
        "\n",
        "- CallBacks:\n",
        " - ReduceLROnPlateau"
      ],
      "metadata": {
        "id": "tHhEJRmMFlhY"
      }
    },
    {
      "cell_type": "code",
      "source": [
        "### Models struture\n",
        "def lstm():\n",
        "  model = tf.keras.Sequential([\n",
        "    #Embedding layer\n",
        "    tf.keras.layers.Embedding(vocab_size, embedding_dim, input_length = max_length),\n",
        "    \n",
        "    # LSTM and batchnormaliztion layers\n",
        "    Bidirectional(LSTM(64, return_sequences =True, kernel_initializer = \"he_normal\", dropout = 0.4)),\n",
        "    tf.keras.layers.BatchNormalization(),\n",
        "    Bidirectional(LSTM(64, return_sequences =True, kernel_initializer = \"he_normal\", dropout = 0.4)),\n",
        "    tf.keras.layers.BatchNormalization(),\n",
        "    Bidirectional(LSTM(64, kernel_initializer = \"he_normal\", dropout = 0.4)),\n",
        "    tf.keras.layers.BatchNormalization(),\n",
        "\n",
        "    # # # Dense layer\n",
        "    # # Dense(500, activation = \"relu\"),\n",
        "    # # Dropout(0.2),\n",
        "    # # Dense(500, activation = \"relu\"),\n",
        "    # Dropout(0.2),\n",
        "\n",
        "    #Output layer\n",
        "    Dense(3, activation = \"softmax\")\n",
        "    ])\n",
        "  \n",
        "  return model\n",
        "\n",
        "def gru():\n",
        "  model = tf.keras.Sequential([\n",
        "    #Embedding layer\n",
        "    tf.keras.layers.Embedding(vocab_size, embedding_dim, input_length = max_length),\n",
        "    \n",
        "    # GRU AND batchnormalization layers\n",
        "    Bidirectional(GRU(64, return_sequences =True, kernel_initializer = \"he_normal\", dropout = 0.4)),\n",
        "    tf.keras.layers.BatchNormalization(),\n",
        "    Bidirectional(GRU(64, return_sequences =True, kernel_initializer = \"he_normal\", dropout = 0.4)),\n",
        "    tf.keras.layers.BatchNormalization(),\n",
        "    Bidirectional(GRU(64, kernel_initializer = \"he_normal\", dropout = 0.4)),\n",
        "    tf.keras.layers.BatchNormalization(),\n",
        "    \n",
        "    # # Dense layes\n",
        "    # Dense(500, activation = \"relu\"),\n",
        "    # Dropout(0.2),\n",
        "    # Dense(500, activation = \"relu\"),\n",
        "    # Dropout(0.2),\n",
        "    # Output layer\n",
        "    Dense(3, activation = \"softmax\")\n",
        "    ])\n",
        "  \n",
        "  return model  "
      ],
      "metadata": {
        "id": "nNuMMJJTRgjr"
      },
      "execution_count": null,
      "outputs": []
    },
    {
      "cell_type": "code",
      "source": [
        "from tensorflow.keras.optimizers import Adam, Nadam"
      ],
      "metadata": {
        "id": "Mzyc93ABvZGE"
      },
      "execution_count": null,
      "outputs": []
    },
    {
      "cell_type": "code",
      "source": [
        "# LSTM model\n",
        "lstm_model = lstm()\n",
        "\n",
        "# Summary\n",
        "lstm_model.summary()\n",
        "\n",
        "# Compile the model\n",
        "lstm_model.compile(loss = 'categorical_crossentropy',\n",
        "              optimizer = Nadam(learning_rate = 0.001),\n",
        "              metrics = ['accuracy'])"
      ],
      "metadata": {
        "colab": {
          "base_uri": "https://localhost:8080/"
        },
        "id": "ecPSUL5neLyr",
        "outputId": "e126f379-9670-40ad-c183-172a7f716396"
      },
      "execution_count": null,
      "outputs": [
        {
          "output_type": "stream",
          "name": "stdout",
          "text": [
            "Model: \"sequential\"\n",
            "_________________________________________________________________\n",
            " Layer (type)                Output Shape              Param #   \n",
            "=================================================================\n",
            " embedding (Embedding)       (None, 200, 16)           160000    \n",
            "                                                                 \n",
            " bidirectional (Bidirectiona  (None, 200, 128)         41472     \n",
            " l)                                                              \n",
            "                                                                 \n",
            " batch_normalization (BatchN  (None, 200, 128)         512       \n",
            " ormalization)                                                   \n",
            "                                                                 \n",
            " bidirectional_1 (Bidirectio  (None, 200, 128)         98816     \n",
            " nal)                                                            \n",
            "                                                                 \n",
            " batch_normalization_1 (Batc  (None, 200, 128)         512       \n",
            " hNormalization)                                                 \n",
            "                                                                 \n",
            " bidirectional_2 (Bidirectio  (None, 128)              98816     \n",
            " nal)                                                            \n",
            "                                                                 \n",
            " batch_normalization_2 (Batc  (None, 128)              512       \n",
            " hNormalization)                                                 \n",
            "                                                                 \n",
            " dense (Dense)               (None, 3)                 387       \n",
            "                                                                 \n",
            "=================================================================\n",
            "Total params: 401,027\n",
            "Trainable params: 400,259\n",
            "Non-trainable params: 768\n",
            "_________________________________________________________________\n"
          ]
        }
      ]
    },
    {
      "cell_type": "code",
      "source": [
        "# LSTM model\n",
        "gru_model = gru()\n",
        "\n",
        "# Summary\n",
        "gru_model.summary()\n",
        "\n",
        "# Compile the model\n",
        "gru_model.compile(loss = 'categorical_crossentropy',\n",
        "              optimizer = Nadam(learning_rate = 0.001),\n",
        "              metrics = ['accuracy'])"
      ],
      "metadata": {
        "colab": {
          "base_uri": "https://localhost:8080/"
        },
        "id": "3Qf6AB0VRggZ",
        "outputId": "0994f75b-f384-41ff-fd8c-b1027162e64c"
      },
      "execution_count": null,
      "outputs": [
        {
          "output_type": "stream",
          "name": "stdout",
          "text": [
            "Model: \"sequential_1\"\n",
            "_________________________________________________________________\n",
            " Layer (type)                Output Shape              Param #   \n",
            "=================================================================\n",
            " embedding_1 (Embedding)     (None, 200, 16)           160000    \n",
            "                                                                 \n",
            " bidirectional_3 (Bidirectio  (None, 200, 128)         31488     \n",
            " nal)                                                            \n",
            "                                                                 \n",
            " batch_normalization_3 (Batc  (None, 200, 128)         512       \n",
            " hNormalization)                                                 \n",
            "                                                                 \n",
            " bidirectional_4 (Bidirectio  (None, 200, 128)         74496     \n",
            " nal)                                                            \n",
            "                                                                 \n",
            " batch_normalization_4 (Batc  (None, 200, 128)         512       \n",
            " hNormalization)                                                 \n",
            "                                                                 \n",
            " bidirectional_5 (Bidirectio  (None, 128)              74496     \n",
            " nal)                                                            \n",
            "                                                                 \n",
            " batch_normalization_5 (Batc  (None, 128)              512       \n",
            " hNormalization)                                                 \n",
            "                                                                 \n",
            " dense_1 (Dense)             (None, 3)                 387       \n",
            "                                                                 \n",
            "=================================================================\n",
            "Total params: 342,403\n",
            "Trainable params: 341,635\n",
            "Non-trainable params: 768\n",
            "_________________________________________________________________\n"
          ]
        }
      ]
    },
    {
      "cell_type": "code",
      "source": [
        "### Training Model"
      ],
      "metadata": {
        "id": "RBuOx6mmexvV"
      },
      "execution_count": null,
      "outputs": []
    },
    {
      "cell_type": "code",
      "source": [
        "## Callbacks\n",
        "from tensorflow.keras.callbacks import ReduceLROnPlateau\n",
        "reduce_lr = ReduceLROnPlateau(monitor = 'val_loss', factor = 0.3, patience = 10, mode = 'min')"
      ],
      "metadata": {
        "id": "ij2-DFojRgd7"
      },
      "execution_count": null,
      "outputs": []
    },
    {
      "cell_type": "code",
      "source": [
        "# enable run function eagerly\n",
        "tf.config.run_functions_eagerly(True)"
      ],
      "metadata": {
        "id": "NmHOzsuHRgbG"
      },
      "execution_count": null,
      "outputs": []
    },
    {
      "cell_type": "code",
      "source": [
        "# batch size and epochs\n",
        "batch_size = 128\n",
        "epochs = 30"
      ],
      "metadata": {
        "id": "u4pstELJRgSb"
      },
      "execution_count": null,
      "outputs": []
    },
    {
      "cell_type": "code",
      "source": [
        "# Training lstm model\n",
        "hist_lstm = lstm_model.fit(\n",
        "    training_pad, y_train,\n",
        "    steps_per_epoch = len(training_pad) // batch_size,\n",
        "    batch_size = batch_size,\n",
        "    epochs = epochs,\n",
        "    validation_data = (val_pad, y_val),\n",
        "    validation_steps = len(val_pad) // batch_size,\n",
        "    callbacks = [reduce_lr],\n",
        "    verbose = 2,\n",
        ")"
      ],
      "metadata": {
        "colab": {
          "base_uri": "https://localhost:8080/"
        },
        "id": "m9zQRLaygdCN",
        "outputId": "40c7c17a-230e-44b6-d8ac-8b862c268855"
      },
      "execution_count": null,
      "outputs": [
        {
          "output_type": "stream",
          "name": "stdout",
          "text": [
            "Epoch 1/30\n",
            "93/93 - 19s - loss: 1.0365 - accuracy: 0.5613 - val_loss: 1.0438 - val_accuracy: 0.4503 - lr: 0.0010 - 19s/epoch - 206ms/step\n",
            "Epoch 2/30\n",
            "93/93 - 15s - loss: 0.6638 - accuracy: 0.7259 - val_loss: 0.9345 - val_accuracy: 0.5547 - lr: 0.0010 - 15s/epoch - 165ms/step\n",
            "Epoch 3/30\n",
            "93/93 - 14s - loss: 0.4583 - accuracy: 0.8190 - val_loss: 0.9834 - val_accuracy: 0.6229 - lr: 0.0010 - 14s/epoch - 154ms/step\n",
            "Epoch 4/30\n",
            "93/93 - 14s - loss: 0.3088 - accuracy: 0.8846 - val_loss: 0.7585 - val_accuracy: 0.7294 - lr: 0.0010 - 14s/epoch - 154ms/step\n",
            "Epoch 5/30\n",
            "93/93 - 14s - loss: 0.2249 - accuracy: 0.9196 - val_loss: 0.5044 - val_accuracy: 0.8061 - lr: 0.0010 - 14s/epoch - 155ms/step\n",
            "Epoch 6/30\n",
            "93/93 - 21s - loss: 0.1522 - accuracy: 0.9473 - val_loss: 0.5335 - val_accuracy: 0.8430 - lr: 0.0010 - 21s/epoch - 226ms/step\n",
            "Epoch 7/30\n",
            "93/93 - 14s - loss: 0.1070 - accuracy: 0.9635 - val_loss: 0.5487 - val_accuracy: 0.8750 - lr: 0.0010 - 14s/epoch - 154ms/step\n",
            "Epoch 8/30\n",
            "93/93 - 14s - loss: 0.0807 - accuracy: 0.9734 - val_loss: 0.5488 - val_accuracy: 0.8700 - lr: 0.0010 - 14s/epoch - 154ms/step\n",
            "Epoch 9/30\n",
            "93/93 - 14s - loss: 0.0673 - accuracy: 0.9776 - val_loss: 0.5754 - val_accuracy: 0.8743 - lr: 0.0010 - 14s/epoch - 155ms/step\n",
            "Epoch 10/30\n",
            "93/93 - 15s - loss: 0.0497 - accuracy: 0.9820 - val_loss: 0.5788 - val_accuracy: 0.8714 - lr: 0.0010 - 15s/epoch - 166ms/step\n",
            "Epoch 11/30\n",
            "93/93 - 14s - loss: 0.0438 - accuracy: 0.9858 - val_loss: 0.6416 - val_accuracy: 0.8814 - lr: 0.0010 - 14s/epoch - 155ms/step\n",
            "Epoch 12/30\n",
            "93/93 - 14s - loss: 0.0424 - accuracy: 0.9847 - val_loss: 0.6031 - val_accuracy: 0.8842 - lr: 0.0010 - 14s/epoch - 154ms/step\n",
            "Epoch 13/30\n",
            "93/93 - 14s - loss: 0.0378 - accuracy: 0.9869 - val_loss: 0.6024 - val_accuracy: 0.8722 - lr: 0.0010 - 14s/epoch - 155ms/step\n",
            "Epoch 14/30\n",
            "93/93 - 14s - loss: 0.0332 - accuracy: 0.9885 - val_loss: 0.7196 - val_accuracy: 0.8729 - lr: 0.0010 - 14s/epoch - 154ms/step\n",
            "Epoch 15/30\n",
            "93/93 - 15s - loss: 0.0323 - accuracy: 0.9896 - val_loss: 0.6762 - val_accuracy: 0.8885 - lr: 0.0010 - 15s/epoch - 165ms/step\n",
            "Epoch 16/30\n",
            "93/93 - 14s - loss: 0.0233 - accuracy: 0.9921 - val_loss: 0.5789 - val_accuracy: 0.8842 - lr: 3.0000e-04 - 14s/epoch - 154ms/step\n",
            "Epoch 17/30\n",
            "93/93 - 15s - loss: 0.0211 - accuracy: 0.9930 - val_loss: 0.6072 - val_accuracy: 0.8963 - lr: 3.0000e-04 - 15s/epoch - 156ms/step\n",
            "Epoch 18/30\n",
            "93/93 - 15s - loss: 0.0161 - accuracy: 0.9950 - val_loss: 0.6096 - val_accuracy: 0.8999 - lr: 3.0000e-04 - 15s/epoch - 157ms/step\n",
            "Epoch 19/30\n",
            "93/93 - 14s - loss: 0.0132 - accuracy: 0.9959 - val_loss: 0.6560 - val_accuracy: 0.8970 - lr: 3.0000e-04 - 14s/epoch - 154ms/step\n",
            "Epoch 20/30\n",
            "93/93 - 14s - loss: 0.0166 - accuracy: 0.9951 - val_loss: 0.6872 - val_accuracy: 0.8920 - lr: 3.0000e-04 - 14s/epoch - 153ms/step\n",
            "Epoch 21/30\n",
            "93/93 - 14s - loss: 0.0129 - accuracy: 0.9962 - val_loss: 0.6422 - val_accuracy: 0.8970 - lr: 3.0000e-04 - 14s/epoch - 155ms/step\n",
            "Epoch 22/30\n",
            "93/93 - 14s - loss: 0.0120 - accuracy: 0.9965 - val_loss: 0.6280 - val_accuracy: 0.8963 - lr: 3.0000e-04 - 14s/epoch - 155ms/step\n",
            "Epoch 23/30\n",
            "93/93 - 15s - loss: 0.0113 - accuracy: 0.9962 - val_loss: 0.6952 - val_accuracy: 0.8956 - lr: 3.0000e-04 - 15s/epoch - 157ms/step\n",
            "Epoch 24/30\n",
            "93/93 - 14s - loss: 0.0094 - accuracy: 0.9969 - val_loss: 0.6529 - val_accuracy: 0.8956 - lr: 3.0000e-04 - 14s/epoch - 155ms/step\n",
            "Epoch 25/30\n",
            "93/93 - 16s - loss: 0.0102 - accuracy: 0.9965 - val_loss: 0.7105 - val_accuracy: 0.8800 - lr: 3.0000e-04 - 16s/epoch - 173ms/step\n",
            "Epoch 26/30\n",
            "93/93 - 16s - loss: 0.0088 - accuracy: 0.9972 - val_loss: 0.6778 - val_accuracy: 0.9006 - lr: 9.0000e-05 - 16s/epoch - 167ms/step\n",
            "Epoch 27/30\n",
            "93/93 - 14s - loss: 0.0070 - accuracy: 0.9982 - val_loss: 0.6920 - val_accuracy: 0.9013 - lr: 9.0000e-05 - 14s/epoch - 156ms/step\n",
            "Epoch 28/30\n",
            "93/93 - 14s - loss: 0.0112 - accuracy: 0.9962 - val_loss: 0.6967 - val_accuracy: 0.8984 - lr: 9.0000e-05 - 14s/epoch - 155ms/step\n",
            "Epoch 29/30\n",
            "93/93 - 16s - loss: 0.0093 - accuracy: 0.9971 - val_loss: 0.6932 - val_accuracy: 0.9020 - lr: 9.0000e-05 - 16s/epoch - 170ms/step\n",
            "Epoch 30/30\n",
            "93/93 - 14s - loss: 0.0067 - accuracy: 0.9980 - val_loss: 0.7015 - val_accuracy: 0.8956 - lr: 9.0000e-05 - 14s/epoch - 154ms/step\n"
          ]
        }
      ]
    },
    {
      "cell_type": "code",
      "source": [
        "# Training gru model\n",
        "hist_gru = gru_model.fit(\n",
        "    training_pad, y_train,\n",
        "    steps_per_epoch = len(training_pad) // batch_size,\n",
        "    batch_size = batch_size,\n",
        "    epochs = epochs,\n",
        "    validation_data = (val_pad, y_val),\n",
        "    validation_steps = len(val_pad) // batch_size,\n",
        "    callbacks = [reduce_lr],\n",
        "    verbose = 2,\n",
        ")"
      ],
      "metadata": {
        "colab": {
          "base_uri": "https://localhost:8080/"
        },
        "id": "ZGU33hynfhUe",
        "outputId": "16086c00-25f4-4461-dfd8-d639fd698241"
      },
      "execution_count": null,
      "outputs": [
        {
          "output_type": "stream",
          "name": "stdout",
          "text": [
            "Epoch 1/30\n",
            "93/93 - 13s - loss: 1.1150 - accuracy: 0.5087 - val_loss: 0.9227 - val_accuracy: 0.6193 - lr: 0.0010 - 13s/epoch - 140ms/step\n",
            "Epoch 2/30\n",
            "93/93 - 13s - loss: 0.7159 - accuracy: 0.6975 - val_loss: 1.0181 - val_accuracy: 0.5256 - lr: 0.0010 - 13s/epoch - 139ms/step\n",
            "Epoch 3/30\n",
            "93/93 - 13s - loss: 0.4957 - accuracy: 0.7988 - val_loss: 0.6153 - val_accuracy: 0.7585 - lr: 0.0010 - 13s/epoch - 140ms/step\n",
            "Epoch 4/30\n",
            "93/93 - 13s - loss: 0.3490 - accuracy: 0.8624 - val_loss: 0.5578 - val_accuracy: 0.8153 - lr: 0.0010 - 13s/epoch - 141ms/step\n",
            "Epoch 5/30\n",
            "93/93 - 13s - loss: 0.2313 - accuracy: 0.9150 - val_loss: 0.4612 - val_accuracy: 0.8665 - lr: 0.0010 - 13s/epoch - 140ms/step\n",
            "Epoch 6/30\n",
            "93/93 - 13s - loss: 0.1669 - accuracy: 0.9392 - val_loss: 0.4553 - val_accuracy: 0.8572 - lr: 0.0010 - 13s/epoch - 143ms/step\n",
            "Epoch 7/30\n",
            "93/93 - 13s - loss: 0.1231 - accuracy: 0.9569 - val_loss: 0.4088 - val_accuracy: 0.8956 - lr: 0.0010 - 13s/epoch - 140ms/step\n",
            "Epoch 8/30\n",
            "93/93 - 13s - loss: 0.0917 - accuracy: 0.9695 - val_loss: 0.4347 - val_accuracy: 0.9041 - lr: 0.0010 - 13s/epoch - 139ms/step\n",
            "Epoch 9/30\n",
            "93/93 - 13s - loss: 0.0737 - accuracy: 0.9751 - val_loss: 0.4722 - val_accuracy: 0.9112 - lr: 0.0010 - 13s/epoch - 139ms/step\n",
            "Epoch 10/30\n",
            "93/93 - 14s - loss: 0.0627 - accuracy: 0.9782 - val_loss: 0.5327 - val_accuracy: 0.8800 - lr: 0.0010 - 14s/epoch - 149ms/step\n",
            "Epoch 11/30\n",
            "93/93 - 13s - loss: 0.0511 - accuracy: 0.9826 - val_loss: 0.5020 - val_accuracy: 0.9062 - lr: 0.0010 - 13s/epoch - 141ms/step\n",
            "Epoch 12/30\n",
            "93/93 - 13s - loss: 0.0464 - accuracy: 0.9849 - val_loss: 0.5003 - val_accuracy: 0.9112 - lr: 0.0010 - 13s/epoch - 140ms/step\n",
            "Epoch 13/30\n",
            "93/93 - 13s - loss: 0.0436 - accuracy: 0.9865 - val_loss: 0.4440 - val_accuracy: 0.9126 - lr: 0.0010 - 13s/epoch - 139ms/step\n",
            "Epoch 14/30\n",
            "93/93 - 13s - loss: 0.0361 - accuracy: 0.9868 - val_loss: 0.4935 - val_accuracy: 0.9034 - lr: 0.0010 - 13s/epoch - 139ms/step\n",
            "Epoch 15/30\n",
            "93/93 - 13s - loss: 0.0287 - accuracy: 0.9911 - val_loss: 0.4722 - val_accuracy: 0.9148 - lr: 0.0010 - 13s/epoch - 137ms/step\n",
            "Epoch 16/30\n",
            "93/93 - 13s - loss: 0.0318 - accuracy: 0.9897 - val_loss: 0.4949 - val_accuracy: 0.9148 - lr: 0.0010 - 13s/epoch - 139ms/step\n",
            "Epoch 17/30\n",
            "93/93 - 13s - loss: 0.0293 - accuracy: 0.9901 - val_loss: 0.4399 - val_accuracy: 0.9190 - lr: 0.0010 - 13s/epoch - 139ms/step\n",
            "Epoch 18/30\n",
            "93/93 - 13s - loss: 0.0221 - accuracy: 0.9920 - val_loss: 0.4876 - val_accuracy: 0.9126 - lr: 3.0000e-04 - 13s/epoch - 139ms/step\n",
            "Epoch 19/30\n",
            "93/93 - 13s - loss: 0.0163 - accuracy: 0.9944 - val_loss: 0.4851 - val_accuracy: 0.9126 - lr: 3.0000e-04 - 13s/epoch - 137ms/step\n",
            "Epoch 20/30\n",
            "93/93 - 13s - loss: 0.0173 - accuracy: 0.9951 - val_loss: 0.4961 - val_accuracy: 0.9148 - lr: 3.0000e-04 - 13s/epoch - 137ms/step\n",
            "Epoch 21/30\n",
            "93/93 - 13s - loss: 0.0159 - accuracy: 0.9944 - val_loss: 0.4801 - val_accuracy: 0.9219 - lr: 3.0000e-04 - 13s/epoch - 138ms/step\n",
            "Epoch 22/30\n",
            "93/93 - 13s - loss: 0.0132 - accuracy: 0.9963 - val_loss: 0.5198 - val_accuracy: 0.9148 - lr: 3.0000e-04 - 13s/epoch - 137ms/step\n",
            "Epoch 23/30\n",
            "93/93 - 14s - loss: 0.0137 - accuracy: 0.9955 - val_loss: 0.4939 - val_accuracy: 0.9233 - lr: 3.0000e-04 - 14s/epoch - 153ms/step\n",
            "Epoch 24/30\n",
            "93/93 - 13s - loss: 0.0095 - accuracy: 0.9971 - val_loss: 0.4957 - val_accuracy: 0.9197 - lr: 3.0000e-04 - 13s/epoch - 137ms/step\n",
            "Epoch 25/30\n",
            "93/93 - 14s - loss: 0.0099 - accuracy: 0.9971 - val_loss: 0.5163 - val_accuracy: 0.9176 - lr: 3.0000e-04 - 14s/epoch - 150ms/step\n",
            "Epoch 26/30\n",
            "93/93 - 13s - loss: 0.0103 - accuracy: 0.9971 - val_loss: 0.5106 - val_accuracy: 0.9183 - lr: 3.0000e-04 - 13s/epoch - 137ms/step\n",
            "Epoch 27/30\n",
            "93/93 - 13s - loss: 0.0108 - accuracy: 0.9966 - val_loss: 0.5158 - val_accuracy: 0.9176 - lr: 3.0000e-04 - 13s/epoch - 140ms/step\n",
            "Epoch 28/30\n",
            "93/93 - 13s - loss: 0.0107 - accuracy: 0.9972 - val_loss: 0.5074 - val_accuracy: 0.9219 - lr: 9.0000e-05 - 13s/epoch - 137ms/step\n",
            "Epoch 29/30\n",
            "93/93 - 13s - loss: 0.0109 - accuracy: 0.9960 - val_loss: 0.5131 - val_accuracy: 0.9197 - lr: 9.0000e-05 - 13s/epoch - 138ms/step\n",
            "Epoch 30/30\n",
            "93/93 - 13s - loss: 0.0106 - accuracy: 0.9967 - val_loss: 0.5119 - val_accuracy: 0.9240 - lr: 9.0000e-05 - 13s/epoch - 140ms/step\n"
          ]
        }
      ]
    },
    {
      "cell_type": "code",
      "source": [
        "\n"
      ],
      "metadata": {
        "id": "UPC2bgv9fhRs"
      },
      "execution_count": null,
      "outputs": []
    },
    {
      "cell_type": "markdown",
      "source": [
        "#### **Model performance evaluation with the training and val set** "
      ],
      "metadata": {
        "id": "yWUOuiCnGzow"
      }
    },
    {
      "cell_type": "code",
      "source": [
        "# LSTM performance\n",
        "fig, ax = plt.subplots(1,2, figsize =(14,5))\n",
        "ax.ravel()\n",
        "plt.tight_layout()\n",
        "\n",
        "for i, met in enumerate(['accuracy','loss']):\n",
        "  ax[i].plot(hist_lstm.history[met])\n",
        "  ax[i].plot(tuple(hist_lstm.history[\"val_\" + met]))\n",
        "  ax[i].set_title(f\"LSTM Model {met}\")\n",
        "  ax[i].set_xlabel(\"epochs\")\n",
        "  ax[i].set_ylabel(met)\n",
        "  ax[i].legend([\"train\", \"val\"])"
      ],
      "metadata": {
        "colab": {
          "base_uri": "https://localhost:8080/",
          "height": 395
        },
        "id": "_zZ7vJjofhPE",
        "outputId": "bf4242af-030b-4943-c7a4-cb9661fb8262"
      },
      "execution_count": null,
      "outputs": [
        {
          "output_type": "display_data",
          "data": {
            "text/plain": [
              "<Figure size 1008x360 with 2 Axes>"
            ],
            "image/png": "[encoded data removed]"
          },
          "metadata": {
            "needs_background": "light"
          }
        }
      ]
    },
    {
      "cell_type": "code",
      "source": [
        "# GRU performance\n",
        "fig, ax = plt.subplots(1,2, figsize =(14,5))\n",
        "ax.ravel()\n",
        "plt.tight_layout()\n",
        "\n",
        "for i, met in enumerate(['accuracy','loss']):\n",
        "  ax[i].plot(hist_gru.history[met])\n",
        "  ax[i].plot(hist_gru.history[\"val_\" + met])\n",
        "  ax[i].set_title(f\"GRU Model {met}\")\n",
        "  ax[i].set_xlabel(\"epochs\")\n",
        "  ax[i].set_ylabel(met)\n",
        "  ax[i].legend([\"train\", \"val\"])"
      ],
      "metadata": {
        "colab": {
          "base_uri": "https://localhost:8080/",
          "height": 395
        },
        "id": "uoLUWR2ffhMX",
        "outputId": "5a5f172e-aa80-4759-ae0a-86029dbb6ab1"
      },
      "execution_count": null,
      "outputs": [
        {
          "output_type": "display_data",
          "data": {
            "text/plain": [
              "<Figure size 1008x360 with 2 Axes>"
            ],
            "image/png": "[encoded data removed]"
          },
          "metadata": {
            "needs_background": "light"
          }
        }
      ]
    },
    {
      "cell_type": "code",
      "source": [],
      "metadata": {
        "id": "2YBnUmk5fhJo"
      },
      "execution_count": null,
      "outputs": []
    },
    {
      "cell_type": "markdown",
      "source": [
        "#### **Model performance with the test set**"
      ],
      "metadata": {
        "id": "TzXz7JZvHDPl"
      }
    },
    {
      "cell_type": "code",
      "source": [
        "y_pred = np.argmax(gru_model.predict(testing_pad), axis=-1)"
      ],
      "metadata": {
        "colab": {
          "base_uri": "https://localhost:8080/"
        },
        "id": "_wUTv7ETjXNk",
        "outputId": "1c01d753-b469-46cc-abff-648260eed4f1"
      },
      "execution_count": null,
      "outputs": [
        {
          "output_type": "stream",
          "name": "stdout",
          "text": [
            "47/47 [==============================] - 2s 41ms/step\n"
          ]
        }
      ]
    },
    {
      "cell_type": "code",
      "source": [
        "from sklearn.metrics import accuracy_score, ConfusionMatrixDisplay\n",
        "\n",
        "#print(\"CONFUSION MATRIX ------------------------------\")\n",
        "fig, ax = plt.subplots(figsize=(9,9))\n",
        "ConfusionMatrixDisplay.from_predictions(y_test, y_pred, cmap = 'Blues', ax = ax)\n",
        "ax.set_xlabel(\"Predicted Values\")\n",
        "ax.set_ylabel(\"Actual values\")\n",
        "ax.xaxis.set_ticklabels([\"negative\",\"positive\", \"neutro\"])\n",
        "ax.yaxis.set_ticklabels([\"negative\",\"positive\", \"neutro\"])\n",
        "\n",
        "## Accuracy and F1-Score\n",
        "acc_x = accuracy_score(y_test, y_pred)\n",
        "\n",
        "print(f'Accuracy: {round(acc_x, 3)}%')"
      ],
      "metadata": {
        "colab": {
          "base_uri": "https://localhost:8080/",
          "height": 537
        },
        "id": "mSfvmcHrjXC1",
        "outputId": "25da158c-f06f-400b-b883-b9e5d849128e"
      },
      "execution_count": null,
      "outputs": [
        {
          "output_type": "stream",
          "name": "stdout",
          "text": [
            "Accuracy: 0.911%\n"
          ]
        },
        {
          "output_type": "display_data",
          "data": {
            "text/plain": [
              "<Figure size 648x648 with 2 Axes>"
            ],
            "image/png": "[encoded data removed]"
          },
          "metadata": {
            "needs_background": "light"
          }
        }
      ]
    },
    {
      "cell_type": "markdown",
      "source": [
        "### **Save the model**"
      ],
      "metadata": {
        "id": "rePg5bufHGds"
      }
    },
    {
      "cell_type": "code",
      "source": [
        "from google.colab import drive\n",
        "drive.mount('/content/drive')"
      ],
      "metadata": {
        "colab": {
          "base_uri": "https://localhost:8080/"
        },
        "id": "liadOeIsjW7m",
        "outputId": "8ec51faa-a8fa-475a-9a3b-55ea369004b0"
      },
      "execution_count": null,
      "outputs": [
        {
          "output_type": "stream",
          "name": "stdout",
          "text": [
            "Mounted at /content/drive\n"
          ]
        }
      ]
    },
    {
      "cell_type": "code",
      "source": [
        "export_path = '/content/drive/MyDrive/Bitcoin_Tweets/dl_model-0.0.1'\n",
        "gru_model.save(export_path)"
      ],
      "metadata": {
        "colab": {
          "base_uri": "https://localhost:8080/"
        },
        "id": "_2Ayf1dKjW3t",
        "outputId": "f9a81aa6-57a7-498e-fe5b-532d6939b19c"
      },
      "execution_count": null,
      "outputs": [
        {
          "output_type": "stream",
          "name": "stderr",
          "text": [
            "WARNING:absl:Found untraced functions such as gru_cell_1_layer_call_fn, gru_cell_1_layer_call_and_return_conditional_losses, gru_cell_2_layer_call_fn, gru_cell_2_layer_call_and_return_conditional_losses, gru_cell_4_layer_call_fn while saving (showing 5 of 12). These functions will not be directly callable after loading.\n"
          ]
        }
      ]
    }
  ]
}